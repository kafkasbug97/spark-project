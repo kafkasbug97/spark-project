{
 "cells": [
  {
   "cell_type": "code",
   "execution_count": 1,
   "id": "440312b2",
   "metadata": {},
   "outputs": [
    {
     "data": {
      "application/vnd.jupyter.widget-view+json": {
       "model_id": "366d494bfd514ff4908fb7b0dd7aa9cb",
       "version_major": 2,
       "version_minor": 0
      },
      "text/plain": [
       "VBox()"
      ]
     },
     "metadata": {},
     "output_type": "display_data"
    },
    {
     "name": "stdout",
     "output_type": "stream",
     "text": [
      "Starting Spark application\n"
     ]
    },
    {
     "data": {
      "text/html": [
       "<table>\n",
       "<tr><th>ID</th><th>YARN Application ID</th><th>Kind</th><th>State</th><th>Spark UI</th><th>Driver log</th><th>Current session?</th></tr><tr><td>2</td><td>application_1662629675872_0004</td><td>pyspark</td><td>idle</td><td><a target=\"_blank\" href=\"http://ip-172-31-35-136.ec2.internal:20888/proxy/application_1662629675872_0004/\">Link</a></td><td><a target=\"_blank\" href=\"http://ip-172-31-47-38.ec2.internal:8042/node/containerlogs/container_1662629675872_0004_01_000001/livy\">Link</a></td><td>✔</td></tr></table>"
      ],
      "text/plain": [
       "<IPython.core.display.HTML object>"
      ]
     },
     "metadata": {},
     "output_type": "display_data"
    },
    {
     "data": {
      "application/vnd.jupyter.widget-view+json": {
       "model_id": "",
       "version_major": 2,
       "version_minor": 0
      },
      "text/plain": [
       "FloatProgress(value=0.0, bar_style='info', description='Progress:', layout=Layout(height='25px', width='50%'),…"
      ]
     },
     "metadata": {},
     "output_type": "display_data"
    },
    {
     "name": "stdout",
     "output_type": "stream",
     "text": [
      "SparkSession available as 'spark'.\n"
     ]
    },
    {
     "data": {
      "application/vnd.jupyter.widget-view+json": {
       "model_id": "",
       "version_major": 2,
       "version_minor": 0
      },
      "text/plain": [
       "FloatProgress(value=0.0, bar_style='info', description='Progress:', layout=Layout(height='25px', width='50%'),…"
      ]
     },
     "metadata": {},
     "output_type": "display_data"
    }
   ],
   "source": [
    "import os\n",
    "import sys\n",
    "os.environ[\"PYSPARK_PYTHON\"] = \"/opt/cloudera/parcels/Anaconda/bin/python\"\n",
    "os.environ[\"JAVA_HOME\"] = \"/usr/java/jdk1.8.0_161/jre\"\n",
    "os.environ[\"SPARK_HOME\"] = \"/opt/cloudera/parcels/SPARK2-2.3.0.cloudera2-1.cdh5.13.3.p0.316101/lib/spark2/\"\n",
    "os.environ[\"PYLIB\"] = os.environ[\"SPARK_HOME\"] + \"/python/lib\"\n",
    "sys.path.insert(0, os.environ[\"PYLIB\"] +\"/py4j-0.10.6-src.zip\")\n",
    "sys.path.insert(0, os.environ[\"PYLIB\"] +\"/pyspark.zip\")\n",
    "\n",
    "from pyspark.sql import SparkSession\n",
    "\n",
    "spark = SparkSession.builder.appName('project').master(\"local\").enableHiveSupport().getOrCreate()"
   ]
  },
  {
   "cell_type": "code",
   "execution_count": 2,
   "id": "3f1c9ecd",
   "metadata": {},
   "outputs": [
    {
     "data": {
      "application/vnd.jupyter.widget-view+json": {
       "model_id": "2206c8a1fd5f4dbc8c4080ae804c8964",
       "version_major": 2,
       "version_minor": 0
      },
      "text/plain": [
       "VBox()"
      ]
     },
     "metadata": {},
     "output_type": "display_data"
    },
    {
     "data": {
      "application/vnd.jupyter.widget-view+json": {
       "model_id": "",
       "version_major": 2,
       "version_minor": 0
      },
      "text/plain": [
       "FloatProgress(value=0.0, bar_style='info', description='Progress:', layout=Layout(height='25px', width='50%'),…"
      ]
     },
     "metadata": {},
     "output_type": "display_data"
    },
    {
     "name": "stdout",
     "output_type": "stream",
     "text": [
      "+----+-------+---+------+---+--------+---+---------------+------------------+--------------------+----+----+------+------+----+--------------------+----+----------+----+----+------+------+-------+--------------+-------+----+----+----+----+-----+----+----+-------+--------------------+\n",
      "| _c0|    _c1|_c2|   _c3|_c4|     _c5|_c6|            _c7|               _c8|                 _c9|_c10|_c11|  _c12|  _c13|_c14|                _c15|_c16|      _c17|_c18|_c19|  _c20|  _c21|   _c22|          _c23|   _c24|_c25|_c26|_c27|_c28| _c29|_c30|_c31|   _c32|                _c33|\n",
      "+----+-------+---+------+---+--------+---+---------------+------------------+--------------------+----+----+------+------+----+--------------------+----+----------+----+----+------+------+-------+--------------+-------+----+----+----+----+-----+----+----+-------+--------------------+\n",
      "|2017|January|  1|Sunday|  0|  Active|  1|            NCR|        NÃƒÂ¦stved|         Farimagsvej|   8|4700|55.233|11.763| DKK|          MasterCard|5643|Withdrawal|null|null|55.230|11.761|2616038|      Naestved|281.150|1014|  87|   7| 260|0.215|  92| 500|   Rain|          light rain|\n",
      "|2017|January|  1|Sunday|  0|Inactive|  2|            NCR|          Vejgaard|          Hadsundvej|  20|9000|57.043| 9.950| DKK|          MasterCard|1764|Withdrawal|null|null|57.048| 9.935|2616235|NÃƒÂ¸rresundby|280.640|1020|  93|   9| 250|0.590|  92| 500|   Rain|          light rain|\n",
      "|2017|January|  1|Sunday|  0|Inactive|  2|            NCR|          Vejgaard|          Hadsundvej|  20|9000|57.043| 9.950| DKK|                VISA|1891|Withdrawal|null|null|57.048| 9.935|2616235|NÃƒÂ¸rresundby|280.640|1020|  93|   9| 250|0.590|  92| 500|   Rain|          light rain|\n",
      "|2017|January|  1|Sunday|  0|Inactive|  3|            NCR|             Ikast| RÃƒÂ¥dhusstrÃƒÂ¦det|  12|7430|56.139| 9.154| DKK|                VISA|4166|Withdrawal|null|null|56.139| 9.158|2619426|         Ikast|281.150|1011| 100|   6| 240|0.000|  75| 300|Drizzle|light intensity d...|\n",
      "|2017|January|  1|Sunday|  0|  Active|  4|            NCR|        Svogerslev|        BrÃƒÂ¸nsager|   1|4000|55.634|12.018| DKK|          MasterCard|5153|Withdrawal|null|null|55.642|12.080|2614481|      Roskilde|280.610|1014|  87|   7| 260|0.000|  88| 701|   Mist|                mist|\n",
      "|2017|January|  1|Sunday|  0|  Active|  5|            NCR|              Nibe|              Torvet|   1|9240|56.983| 9.639| DKK|          MasterCard|3269|Withdrawal|null|null|56.981| 9.639|2616483|          Nibe|280.640|1020|  93|   9| 250|0.590|  92| 500|   Rain|          light rain|\n",
      "|2017|January|  1|Sunday|  0|  Active|  6|            NCR|        Fredericia|    SjÃƒÂ¦llandsgade|  33|7000|55.564| 9.757| DKK|          MasterCard| 887|Withdrawal|null|null|55.566| 9.753|2621951|    Fredericia|281.150|1014|  93|   7| 230|0.290|  92| 500|   Rain|          light rain|\n",
      "|2017|January|  1|Sunday|  0|  Active|  7|Diebold Nixdorf|         Hjallerup|   Hjallerup Centret|  18|9320|57.168|10.148| DKK|  Mastercard - on-us|4626|Withdrawal|null|null|57.165|10.146|2620275|     Hjallerup|280.640|1020|  93|   9| 250|0.590|  92| 500|   Rain|          light rain|\n",
      "|2017|January|  1|Sunday|  0|  Active|  8|            NCR|       GlyngÃƒÂ¸re|         FÃƒÂ¦rgevej|   1|7870|56.762| 8.867| DKK|          MasterCard| 470|Withdrawal|null|null|56.793| 8.853|2615964| Nykobing Mors|281.150|1011| 100|   6| 240|0.000|  75| 300|Drizzle|light intensity d...|\n",
      "|2017|January|  1|Sunday|  0|  Active|  9|Diebold Nixdorf|           Hadsund|           Storegade|  12|9560|56.716|10.114| DKK|                VISA|8473|Withdrawal|null|null|56.715|10.117|2620952|       Hadsund|280.640|1020|  93|   9| 250|0.590|  92| 500|   Rain|          light rain|\n",
      "|2017|January|  1|Sunday|  0|  Active| 10|            NCR|    NÃƒÂ¸rresundby|              Torvet|   6|9400|57.059| 9.922| DKK|             Dankort| 953|Withdrawal|null|null|57.048| 9.919|2624886|       Aalborg|280.640|1020|  93|   9| 250|0.590|  92| 500|   Rain|          light rain|\n",
      "|2017|January|  1|Sunday|  0|  Active| 11|            NCR|         Sauersvej|Fridtjof Nansens Vej|   2|9210|57.023| 9.940| DKK|        Visa Dankort|9346|Withdrawal|null|null|57.048| 9.935|2616235|NÃƒÂ¸rresundby|280.640|1020|  93|   9| 250|0.590|  92| 500|   Rain|          light rain|\n",
      "|2017|January|  1|Sunday|  0|Inactive|  2|            NCR|          Vejgaard|          Hadsundvej|  20|9000|57.043| 9.950| DKK|  Mastercard - on-us|3874|Withdrawal|null|null|57.048| 9.935|2616235|NÃƒÂ¸rresundby|280.640|1020|  93|   9| 250|0.590|  92| 500|   Rain|          light rain|\n",
      "|2017|January|  1|Sunday|  0|Inactive| 12|            NCR|ÃƒËœsterÃƒÂ¥  Duus|        ÃƒËœsterÃƒÂ¥|  12|9000|57.049| 9.922| DKK|  Mastercard - on-us|1329|Withdrawal|null|null|57.048| 9.919|2624886|       Aalborg|280.640|1020|  93|   9| 250|0.590|  92| 500|   Rain|          light rain|\n",
      "|2017|January|  1|Sunday|  0|  Active| 13|            NCR|           SÃƒÂ¦by|          Vestergade|   3|9300|57.334|10.515| DKK|  Mastercard - on-us|5024|Withdrawal|null|null|57.441|10.537|2621927| Frederikshavn|281.140|1019|  94|  12| 251|1.275|  92| 500|   Rain|          light rain|\n",
      "|2017|January|  1|Sunday|  0|Inactive| 14|            NCR|        HÃƒÂ¸rning|        NÃƒÂ¸rrealle|  12|8362|56.086|10.037| DKK|Visa Dankort - on-us|1133|Withdrawal|null|null|56.157|10.211|2624652|         Arhus|281.150|1012|  87|   5| 250|0.000|  92| 300|Drizzle|light intensity d...|\n",
      "|2017|January|  1|Sunday|  0|  Active| 15|            NCR|            Vestre|           Kastetvej|  36|9000|57.053| 9.905| DKK|          MasterCard| 594|Withdrawal|null|null|57.048| 9.919|2624886|       Aalborg|280.640|1020|  93|   9| 250|0.590|  92| 500|   Rain|          light rain|\n",
      "|2017|January|  1|Sunday|  0|Inactive| 12|            NCR|ÃƒËœsterÃƒÂ¥  Duus|        ÃƒËœsterÃƒÂ¥|  12|9000|57.049| 9.922| DKK|  Mastercard - on-us|9570|Withdrawal|null|null|57.048| 9.919|2624886|       Aalborg|280.640|1020|  93|   9| 250|0.590|  92| 500|   Rain|          light rain|\n",
      "|2017|January|  1|Sunday|  0|Inactive| 16|            NCR|             Skive|            Adelgade|   8|7800|56.567| 9.027| DKK|        Visa Dankort|6068|Withdrawal|null|null|56.567| 9.033|2613731|         Skive|281.150|1012| 100|   7| 240|0.000|  75| 300|Drizzle|light intensity d...|\n",
      "|2017|January|  1|Sunday|  0|  Active| 17|            NCR|           Randers|        ÃƒËœstervold|  16|8900|56.462|10.038| DKK|                VISA|1630|Withdrawal|null|null|56.715|10.117|2620952|       Hadsund|280.640|1020|  93|   9| 250|0.590|  92| 500|   Rain|          light rain|\n",
      "+----+-------+---+------+---+--------+---+---------------+------------------+--------------------+----+----+------+------+----+--------------------+----+----------+----+----+------+------+-------+--------------+-------+----+----+----+----+-----+----+----+-------+--------------------+\n",
      "only showing top 20 rows"
     ]
    }
   ],
   "source": [
    "#Data Ingestion\n",
    "#Reading data from HDFS and listing\n",
    "df = spark.read.format(\"csv\").load(\"hdfs:///user/hadoop/sqoop_import/\")\n",
    "df.show()"
   ]
  },
  {
   "cell_type": "code",
   "execution_count": 3,
   "id": "38243d24",
   "metadata": {},
   "outputs": [
    {
     "data": {
      "application/vnd.jupyter.widget-view+json": {
       "model_id": "e6b02a53da6e4745bb83adf6f234a14d",
       "version_major": 2,
       "version_minor": 0
      },
      "text/plain": [
       "VBox()"
      ]
     },
     "metadata": {},
     "output_type": "display_data"
    },
    {
     "data": {
      "application/vnd.jupyter.widget-view+json": {
       "model_id": "",
       "version_major": 2,
       "version_minor": 0
      },
      "text/plain": [
       "FloatProgress(value=0.0, bar_style='info', description='Progress:', layout=Layout(height='25px', width='50%'),…"
      ]
     },
     "metadata": {},
     "output_type": "display_data"
    }
   ],
   "source": [
    "#create input schema using StructType\n",
    "\n",
    "from pyspark.sql.types import*\n",
    "\n",
    "shm = StructType([\n",
    "    StructField(\"year\",IntegerType(),False),\n",
    "    StructField(\"month\", StringType(),False),\n",
    "    StructField(\"day\",IntegerType(),False),\n",
    "    StructField(\"weekday\",StringType(),False),\n",
    "    StructField(\"hour\",IntegerType(),False),\n",
    "    StructField(\"atm_status\",StringType(),False),\n",
    "    StructField(\"atm_id\",StringType(),False),\n",
    "    StructField(\"atm_manufacturer\",StringType(),False),\n",
    "    StructField(\"atm_location\",StringType(),False),\n",
    "    StructField(\"atm_streetname\",StringType(),False),\n",
    "    StructField(\"atm_street_number\",IntegerType(),False),\n",
    "    StructField(\"atm_zip_code\",IntegerType(),False),\n",
    "    StructField(\"atm_lat\",DecimalType(),False),\n",
    "    StructField(\"atm_lon\",DecimalType(),False),\n",
    "    StructField(\"currency\",StringType(),False),\n",
    "    StructField(\"card_type\",StringType(),False),\n",
    "    StructField(\"transaction_amount\",IntegerType(),False),\n",
    "    StructField(\"service\",StringType(),False),\n",
    "    StructField(\"message_code\",StringType(),True),\n",
    "    StructField(\"message_text\",StringType(),True),\n",
    "    StructField(\"weather_lat\",DecimalType(),False),\n",
    "    StructField(\"weather_lon\",DecimalType(),False),\n",
    "    StructField(\"weather_city_id\",IntegerType(),False),\n",
    "    StructField(\"weather_city_name\",StringType(),False),\n",
    "    StructField(\"temp\",DecimalType(),False),\n",
    "    StructField(\"pressure\",IntegerType(),False),\n",
    "    StructField(\"humidity\",IntegerType(),False),\n",
    "    StructField(\"wind_speed\",IntegerType(),False),\n",
    "    StructField(\"wind_deg\",IntegerType(),False),\n",
    "    StructField(\"rain_3h\",DecimalType(),True),\n",
    "    StructField(\"clouds_all\",IntegerType(),False),\n",
    "    StructField(\"weather_id\",IntegerType(),False),\n",
    "    StructField(\"weather_main\",StringType(),False),\n",
    "    StructField(\"weather_description\",StringType(),False)\n",
    "])"
   ]
  },
  {
   "cell_type": "code",
   "execution_count": 4,
   "id": "d234710b",
   "metadata": {},
   "outputs": [
    {
     "data": {
      "application/vnd.jupyter.widget-view+json": {
       "model_id": "1bc1177b5b974ab191142b4f234d008d",
       "version_major": 2,
       "version_minor": 0
      },
      "text/plain": [
       "VBox()"
      ]
     },
     "metadata": {},
     "output_type": "display_data"
    },
    {
     "data": {
      "application/vnd.jupyter.widget-view+json": {
       "model_id": "",
       "version_major": 2,
       "version_minor": 0
      },
      "text/plain": [
       "FloatProgress(value=0.0, bar_style='info', description='Progress:', layout=Layout(height='25px', width='50%'),…"
      ]
     },
     "metadata": {},
     "output_type": "display_data"
    },
    {
     "name": "stdout",
     "output_type": "stream",
     "text": [
      "2468572"
     ]
    }
   ],
   "source": [
    "# read the data using the input schema created \n",
    "# verifying the data using count function\n",
    "df1 = spark.read.option('delimeter','|').csv('hdfs:///user/hadoop/sqoop_import/',schema=shm)\n",
    "df1.count()"
   ]
  },
  {
   "cell_type": "code",
   "execution_count": 5,
   "id": "672fc314",
   "metadata": {},
   "outputs": [
    {
     "data": {
      "application/vnd.jupyter.widget-view+json": {
       "model_id": "932a0e7b34cb4e4aa863fd16570c1a56",
       "version_major": 2,
       "version_minor": 0
      },
      "text/plain": [
       "VBox()"
      ]
     },
     "metadata": {},
     "output_type": "display_data"
    },
    {
     "data": {
      "application/vnd.jupyter.widget-view+json": {
       "model_id": "",
       "version_major": 2,
       "version_minor": 0
      },
      "text/plain": [
       "FloatProgress(value=0.0, bar_style='info', description='Progress:', layout=Layout(height='25px', width='50%'),…"
      ]
     },
     "metadata": {},
     "output_type": "display_data"
    },
    {
     "name": "stdout",
     "output_type": "stream",
     "text": [
      "8685"
     ]
    }
   ],
   "source": [
    "#create a dataframe for Date Dimension according to Target Dimension model\n",
    "\n",
    "import pyspark\n",
    "from pyspark.sql.types import*\n",
    "from pyspark.sql.functions import*\n",
    "\n",
    "df_date = df1.select(col(\"year\"),col(\"month\"),col(\"day\"),col(\"hour\"),col(\"weekday\")).distinct()\n",
    "df_date.count()"
   ]
  },
  {
   "cell_type": "code",
   "execution_count": 6,
   "id": "7a2d707b",
   "metadata": {},
   "outputs": [
    {
     "data": {
      "application/vnd.jupyter.widget-view+json": {
       "model_id": "818f38295e35442980ef70f7a4f51a45",
       "version_major": 2,
       "version_minor": 0
      },
      "text/plain": [
       "VBox()"
      ]
     },
     "metadata": {},
     "output_type": "display_data"
    },
    {
     "data": {
      "application/vnd.jupyter.widget-view+json": {
       "model_id": "",
       "version_major": 2,
       "version_minor": 0
      },
      "text/plain": [
       "FloatProgress(value=0.0, bar_style='info', description='Progress:', layout=Layout(height='25px', width='50%'),…"
      ]
     },
     "metadata": {},
     "output_type": "display_data"
    },
    {
     "name": "stdout",
     "output_type": "stream",
     "text": [
      "root\n",
      " |-- year: integer (nullable = true)\n",
      " |-- month: string (nullable = true)\n",
      " |-- day: integer (nullable = true)\n",
      " |-- hour: integer (nullable = true)\n",
      " |-- weekday: string (nullable = true)"
     ]
    }
   ],
   "source": [
    "df_date.printSchema()"
   ]
  },
  {
   "cell_type": "code",
   "execution_count": 7,
   "id": "12bff1a0",
   "metadata": {},
   "outputs": [
    {
     "data": {
      "application/vnd.jupyter.widget-view+json": {
       "model_id": "07e8952afc2f4983a28a8c0a8fed6684",
       "version_major": 2,
       "version_minor": 0
      },
      "text/plain": [
       "VBox()"
      ]
     },
     "metadata": {},
     "output_type": "display_data"
    },
    {
     "data": {
      "application/vnd.jupyter.widget-view+json": {
       "model_id": "",
       "version_major": 2,
       "version_minor": 0
      },
      "text/plain": [
       "FloatProgress(value=0.0, bar_style='info', description='Progress:', layout=Layout(height='25px', width='50%'),…"
      ]
     },
     "metadata": {},
     "output_type": "display_data"
    },
    {
     "name": "stdout",
     "output_type": "stream",
     "text": [
      "+----+--------+---+----+---------+-------+\n",
      "|year|   month|day|hour|  weekday|date_id|\n",
      "+----+--------+---+----+---------+-------+\n",
      "|2017| January|  5|  21| Thursday|      0|\n",
      "|2017| January| 22|  15|   Sunday|      1|\n",
      "|2017|   April|  7|   9|   Friday|      2|\n",
      "|2017| January| 23|  18|   Monday|      3|\n",
      "|2017|   March| 17|   1|   Friday|      4|\n",
      "|2017|   March| 27|  13|   Monday|      5|\n",
      "|2017|   March| 29|   7|Wednesday|      6|\n",
      "|2017|   March|  4|   8| Saturday|      7|\n",
      "|2017|   March| 12|  12|   Sunday|      8|\n",
      "|2017| January|  4|   4|Wednesday|      9|\n",
      "|2017|February|  8|  13|Wednesday|     10|\n",
      "|2017|February| 18|  21| Saturday|     11|\n",
      "|2017|February| 28|  21|  Tuesday|     12|\n",
      "|2017| January| 24|  14|  Tuesday|     13|\n",
      "|2017|February|  6|  15|   Monday|     14|\n",
      "|2017|   March| 20|   9|   Monday|     15|\n",
      "|2017| January| 27|   2|   Friday|     16|\n",
      "|2017|   March|  4|   4| Saturday|     17|\n",
      "|2017| January| 14|   5| Saturday|     18|\n",
      "|2017| January| 16|  19|   Monday|     19|\n",
      "+----+--------+---+----+---------+-------+\n",
      "only showing top 20 rows"
     ]
    }
   ],
   "source": [
    "#clean and transform the data for Date dimension - add primary key (date_id)\n",
    "from pyspark.sql.functions import monotonically_increasing_id\n",
    "\n",
    "dim_date = df_date.withColumn(\"date_id\", monotonically_increasing_id())\n",
    "dim_date.show()"
   ]
  },
  {
   "cell_type": "code",
   "execution_count": 8,
   "id": "1edf60dd",
   "metadata": {},
   "outputs": [
    {
     "data": {
      "application/vnd.jupyter.widget-view+json": {
       "model_id": "78ceb0ea55f64d73ae45e322f6f48b83",
       "version_major": 2,
       "version_minor": 0
      },
      "text/plain": [
       "VBox()"
      ]
     },
     "metadata": {},
     "output_type": "display_data"
    },
    {
     "data": {
      "application/vnd.jupyter.widget-view+json": {
       "model_id": "",
       "version_major": 2,
       "version_minor": 0
      },
      "text/plain": [
       "FloatProgress(value=0.0, bar_style='info', description='Progress:', layout=Layout(height='25px', width='50%'),…"
      ]
     },
     "metadata": {},
     "output_type": "display_data"
    },
    {
     "name": "stdout",
     "output_type": "stream",
     "text": [
      "8685"
     ]
    }
   ],
   "source": [
    "#Check count for the Date Dimension\n",
    "#Count of Records - 8685\n",
    "dim_date.count()"
   ]
  },
  {
   "cell_type": "code",
   "execution_count": 9,
   "id": "988eaeee",
   "metadata": {},
   "outputs": [
    {
     "data": {
      "application/vnd.jupyter.widget-view+json": {
       "model_id": "89b34a4a8de9498ab0cd8b353b7d6cd2",
       "version_major": 2,
       "version_minor": 0
      },
      "text/plain": [
       "VBox()"
      ]
     },
     "metadata": {},
     "output_type": "display_data"
    },
    {
     "data": {
      "application/vnd.jupyter.widget-view+json": {
       "model_id": "",
       "version_major": 2,
       "version_minor": 0
      },
      "text/plain": [
       "FloatProgress(value=0.0, bar_style='info', description='Progress:', layout=Layout(height='25px', width='50%'),…"
      ]
     },
     "metadata": {},
     "output_type": "display_data"
    },
    {
     "name": "stdout",
     "output_type": "stream",
     "text": [
      "12"
     ]
    }
   ],
   "source": [
    "#create a dataframe for Card Type Dimension according to Target Dimension model\n",
    "#clean and transform the data for Card Type dimension\n",
    "\n",
    "#card_type dimension\n",
    "#Check count for the Card Type Dimension\n",
    "#Count of Records - 12\n",
    "\n",
    "dim_card_type = df1.select(col(\"card_type\")).distinct()\n",
    "dim_card_type.count()"
   ]
  },
  {
   "cell_type": "code",
   "execution_count": 10,
   "id": "f5d9f4f2",
   "metadata": {},
   "outputs": [
    {
     "data": {
      "application/vnd.jupyter.widget-view+json": {
       "model_id": "0053efd067c3489fba06261f9476ba1c",
       "version_major": 2,
       "version_minor": 0
      },
      "text/plain": [
       "VBox()"
      ]
     },
     "metadata": {},
     "output_type": "display_data"
    },
    {
     "data": {
      "application/vnd.jupyter.widget-view+json": {
       "model_id": "",
       "version_major": 2,
       "version_minor": 0
      },
      "text/plain": [
       "FloatProgress(value=0.0, bar_style='info', description='Progress:', layout=Layout(height='25px', width='50%'),…"
      ]
     },
     "metadata": {},
     "output_type": "display_data"
    },
    {
     "name": "stdout",
     "output_type": "stream",
     "text": [
      "109"
     ]
    }
   ],
   "source": [
    "#create a dataframe for Location Dimension according to Target Dimension model\n",
    "#clean and transform the data for Location dimension\n",
    "\n",
    "#Check count for the Location Dimension\n",
    "#Count of Records - 109\n",
    "\n",
    "dim_location = df1.select(col(\"atm_location\"),col(\"atm_lat\"),col(\"atm_lon\"),col(\"atm_streetname\"),col(\"atm_street_number\"),col(\"atm_zip_code\")).distinct()\n",
    "dim_location.count()"
   ]
  },
  {
   "cell_type": "code",
   "execution_count": 11,
   "id": "29fc4486",
   "metadata": {},
   "outputs": [
    {
     "data": {
      "application/vnd.jupyter.widget-view+json": {
       "model_id": "dad91cb9309d407591127e1dc445aba4",
       "version_major": 2,
       "version_minor": 0
      },
      "text/plain": [
       "VBox()"
      ]
     },
     "metadata": {},
     "output_type": "display_data"
    },
    {
     "data": {
      "application/vnd.jupyter.widget-view+json": {
       "model_id": "",
       "version_major": 2,
       "version_minor": 0
      },
      "text/plain": [
       "FloatProgress(value=0.0, bar_style='info', description='Progress:', layout=Layout(height='25px', width='50%'),…"
      ]
     },
     "metadata": {},
     "output_type": "display_data"
    },
    {
     "name": "stdout",
     "output_type": "stream",
     "text": [
      "113"
     ]
    }
   ],
   "source": [
    "#create a dataframe for ATM Dimension according to Target Dimension model\n",
    "#clean and transform the data for ATM dimension\n",
    "\n",
    "#Check count for the ATM Dimension\n",
    "#Count of Records - 113\n",
    "\n",
    "dim_atm = df1.select(col(\"atm_id\"),col(\"atm_manufacturer\"),col(\"atm_location\")).distinct()\n",
    "dim_atm.count()"
   ]
  },
  {
   "cell_type": "code",
   "execution_count": 12,
   "id": "a69fe81e",
   "metadata": {},
   "outputs": [
    {
     "data": {
      "application/vnd.jupyter.widget-view+json": {
       "model_id": "1d1ce6b5b7314e03880cd4890033c12a",
       "version_major": 2,
       "version_minor": 0
      },
      "text/plain": [
       "VBox()"
      ]
     },
     "metadata": {},
     "output_type": "display_data"
    },
    {
     "data": {
      "application/vnd.jupyter.widget-view+json": {
       "model_id": "",
       "version_major": 2,
       "version_minor": 0
      },
      "text/plain": [
       "FloatProgress(value=0.0, bar_style='info', description='Progress:', layout=Layout(height='25px', width='50%'),…"
      ]
     },
     "metadata": {},
     "output_type": "display_data"
    }
   ],
   "source": [
    "#schema for fact table\n",
    "\n",
    "schema_fact = StructType([\n",
    "    StructField(\"id\",IntegerType(),False),\n",
    "    StructField(\"year\",IntegerType(),False),\n",
    "    StructField(\"month\", StringType(),False),\n",
    "    StructField(\"day\",IntegerType(),False),\n",
    "    StructField(\"hour\",StringType(),False),\n",
    "    StructField(\"weekday\",IntegerType(),False),\n",
    "    StructField(\"card_type\",StringType(),False),\n",
    "    StructField(\"atm_location\",StringType(),False),\n",
    "    StructField(\"atm_lat\",DecimalType(),False),\n",
    "    StructField(\"atm_lon\",DecimalType(),False),\n",
    "    StructField(\"atm_streetname\",StringType(),False),\n",
    "    StructField(\"atm_street_number\",IntegerType(),False),\n",
    "    StructField(\"atm_zip_code\",IntegerType(),False),\n",
    "    StructField(\"atm_status\",StringType(),False),\n",
    "    StructField(\"atm_id\",StringType(),False),\n",
    "    StructField(\"atm_manufacturer\",StringType(),False)  \n",
    "])"
   ]
  },
  {
   "cell_type": "code",
   "execution_count": 13,
   "id": "860cacda",
   "metadata": {},
   "outputs": [
    {
     "data": {
      "application/vnd.jupyter.widget-view+json": {
       "model_id": "8b444c413dce4c8d94b9255c1acd287c",
       "version_major": 2,
       "version_minor": 0
      },
      "text/plain": [
       "VBox()"
      ]
     },
     "metadata": {},
     "output_type": "display_data"
    },
    {
     "data": {
      "application/vnd.jupyter.widget-view+json": {
       "model_id": "",
       "version_major": 2,
       "version_minor": 0
      },
      "text/plain": [
       "FloatProgress(value=0.0, bar_style='info', description='Progress:', layout=Layout(height='25px', width='50%'),…"
      ]
     },
     "metadata": {},
     "output_type": "display_data"
    },
    {
     "name": "stdout",
     "output_type": "stream",
     "text": [
      "root\n",
      " |-- year: integer (nullable = true)\n",
      " |-- month: string (nullable = true)\n",
      " |-- day: integer (nullable = true)\n",
      " |-- weekday: string (nullable = true)\n",
      " |-- hour: integer (nullable = true)\n",
      " |-- atm_status: string (nullable = true)\n",
      " |-- atm_id: string (nullable = true)\n",
      " |-- atm_manufacturer: string (nullable = true)\n",
      " |-- atm_location: string (nullable = true)\n",
      " |-- atm_streetname: string (nullable = true)\n",
      " |-- atm_street_number: integer (nullable = true)\n",
      " |-- atm_zip_code: integer (nullable = true)\n",
      " |-- atm_lat: decimal(10,0) (nullable = true)\n",
      " |-- atm_lon: decimal(10,0) (nullable = true)\n",
      " |-- currency: string (nullable = true)\n",
      " |-- card_type: string (nullable = true)\n",
      " |-- transaction_amount: integer (nullable = true)\n",
      " |-- service: string (nullable = true)\n",
      " |-- message_code: string (nullable = true)\n",
      " |-- message_text: string (nullable = true)\n",
      " |-- weather_lat: decimal(10,0) (nullable = true)\n",
      " |-- weather_lon: decimal(10,0) (nullable = true)\n",
      " |-- weather_city_id: integer (nullable = true)\n",
      " |-- weather_city_name: string (nullable = true)\n",
      " |-- temp: decimal(10,0) (nullable = true)\n",
      " |-- pressure: integer (nullable = true)\n",
      " |-- humidity: integer (nullable = true)\n",
      " |-- wind_speed: integer (nullable = true)\n",
      " |-- wind_deg: integer (nullable = true)\n",
      " |-- rain_3h: decimal(10,0) (nullable = true)\n",
      " |-- clouds_all: integer (nullable = true)\n",
      " |-- weather_id: integer (nullable = true)\n",
      " |-- weather_main: string (nullable = true)\n",
      " |-- weather_description: string (nullable = true)\n",
      " |-- id: long (nullable = false)"
     ]
    }
   ],
   "source": [
    "#primary key for fact table\n",
    "\n",
    "dim_fact = df1.withColumn(\"id\", monotonically_increasing_id())\n",
    "dim_fact.printSchema()"
   ]
  },
  {
   "cell_type": "code",
   "execution_count": 14,
   "id": "6f90fdb0",
   "metadata": {},
   "outputs": [
    {
     "data": {
      "application/vnd.jupyter.widget-view+json": {
       "model_id": "01d4825b32e9413da18fd541c344cc1a",
       "version_major": 2,
       "version_minor": 0
      },
      "text/plain": [
       "VBox()"
      ]
     },
     "metadata": {},
     "output_type": "display_data"
    },
    {
     "data": {
      "application/vnd.jupyter.widget-view+json": {
       "model_id": "",
       "version_major": 2,
       "version_minor": 0
      },
      "text/plain": [
       "FloatProgress(value=0.0, bar_style='info', description='Progress:', layout=Layout(height='25px', width='50%'),…"
      ]
     },
     "metadata": {},
     "output_type": "display_data"
    },
    {
     "name": "stdout",
     "output_type": "stream",
     "text": [
      "2468572"
     ]
    }
   ],
   "source": [
    "#create fact table\n",
    "\n",
    "#Check count for the all the Stages in the creation of Transaction Fact table\n",
    "#Count of Records in each stage - 2468572\n",
    "\n",
    "df_fact = dim_fact.select(col(\"id\"),col(\"year\"),col(\"month\"),col(\"day\"),col(\"hour\"),col(\"weekday\"),col(\"card_type\"),col(\"atm_location\"),col(\"atm_lat\"),col(\"atm_lon\"),col(\"atm_streetname\"),col(\"atm_street_number\"),col(\"atm_zip_code\"),col(\"atm_status\"),col(\"atm_id\"),col(\"atm_manufacturer\")).distinct()\n",
    "df_fact.count()"
   ]
  },
  {
   "cell_type": "code",
   "execution_count": 17,
   "id": "b40fd7d6",
   "metadata": {},
   "outputs": [
    {
     "data": {
      "application/vnd.jupyter.widget-view+json": {
       "model_id": "5022e980530444dbac87624a1c3ce82f",
       "version_major": 2,
       "version_minor": 0
      },
      "text/plain": [
       "VBox()"
      ]
     },
     "metadata": {},
     "output_type": "display_data"
    },
    {
     "data": {
      "application/vnd.jupyter.widget-view+json": {
       "model_id": "",
       "version_major": 2,
       "version_minor": 0
      },
      "text/plain": [
       "FloatProgress(value=0.0, bar_style='info', description='Progress:', layout=Layout(height='25px', width='50%'),…"
      ]
     },
     "metadata": {},
     "output_type": "display_data"
    }
   ],
   "source": [
    "#load date dimension to S3\n",
    "\n",
    "dim_date.coalesce(1).write.csv(\"s3://myfactanddimensiontables/dim_date/\")"
   ]
  },
  {
   "cell_type": "code",
   "execution_count": 18,
   "id": "81f68329",
   "metadata": {},
   "outputs": [
    {
     "data": {
      "application/vnd.jupyter.widget-view+json": {
       "model_id": "9a6546c7248e443cae9e86cbdaf7c908",
       "version_major": 2,
       "version_minor": 0
      },
      "text/plain": [
       "VBox()"
      ]
     },
     "metadata": {},
     "output_type": "display_data"
    },
    {
     "data": {
      "application/vnd.jupyter.widget-view+json": {
       "model_id": "",
       "version_major": 2,
       "version_minor": 0
      },
      "text/plain": [
       "FloatProgress(value=0.0, bar_style='info', description='Progress:', layout=Layout(height='25px', width='50%'),…"
      ]
     },
     "metadata": {},
     "output_type": "display_data"
    }
   ],
   "source": [
    "#load card_type dimension to S3\n",
    "\n",
    "dim_card_type.coalesce(1).write.csv(\"s3://myfactanddimensiontables/dim_card_type/\")"
   ]
  },
  {
   "cell_type": "code",
   "execution_count": 19,
   "id": "5abeef3d",
   "metadata": {},
   "outputs": [
    {
     "data": {
      "application/vnd.jupyter.widget-view+json": {
       "model_id": "d6e2debc42234c16b989572700d5a6ea",
       "version_major": 2,
       "version_minor": 0
      },
      "text/plain": [
       "VBox()"
      ]
     },
     "metadata": {},
     "output_type": "display_data"
    },
    {
     "data": {
      "application/vnd.jupyter.widget-view+json": {
       "model_id": "",
       "version_major": 2,
       "version_minor": 0
      },
      "text/plain": [
       "FloatProgress(value=0.0, bar_style='info', description='Progress:', layout=Layout(height='25px', width='50%'),…"
      ]
     },
     "metadata": {},
     "output_type": "display_data"
    }
   ],
   "source": [
    "#load location dimension to S3\n",
    "\n",
    "dim_location.coalesce(1).write.csv(\"s3://myfactanddimensiontables/dim_location/\")"
   ]
  },
  {
   "cell_type": "code",
   "execution_count": 20,
   "id": "ef771c68",
   "metadata": {},
   "outputs": [
    {
     "data": {
      "application/vnd.jupyter.widget-view+json": {
       "model_id": "be3d69a4632e4f2d89e4d45c6617191b",
       "version_major": 2,
       "version_minor": 0
      },
      "text/plain": [
       "VBox()"
      ]
     },
     "metadata": {},
     "output_type": "display_data"
    },
    {
     "data": {
      "application/vnd.jupyter.widget-view+json": {
       "model_id": "",
       "version_major": 2,
       "version_minor": 0
      },
      "text/plain": [
       "FloatProgress(value=0.0, bar_style='info', description='Progress:', layout=Layout(height='25px', width='50%'),…"
      ]
     },
     "metadata": {},
     "output_type": "display_data"
    }
   ],
   "source": [
    "#load atm dimension to S3\n",
    "\n",
    "dim_atm.coalesce(1).write.csv(\"s3://myfactanddimensiontables/dim_atm/\")"
   ]
  },
  {
   "cell_type": "code",
   "execution_count": 21,
   "id": "fb03c2e4",
   "metadata": {},
   "outputs": [
    {
     "data": {
      "application/vnd.jupyter.widget-view+json": {
       "model_id": "6dce6659c5564ef68194fdffcc100f69",
       "version_major": 2,
       "version_minor": 0
      },
      "text/plain": [
       "VBox()"
      ]
     },
     "metadata": {},
     "output_type": "display_data"
    },
    {
     "data": {
      "application/vnd.jupyter.widget-view+json": {
       "model_id": "",
       "version_major": 2,
       "version_minor": 0
      },
      "text/plain": [
       "FloatProgress(value=0.0, bar_style='info', description='Progress:', layout=Layout(height='25px', width='50%'),…"
      ]
     },
     "metadata": {},
     "output_type": "display_data"
    }
   ],
   "source": [
    "#load fact table to S3\n",
    "\n",
    "df_fact.coalesce(1).write.csv(\"s3://myfactanddimensiontables/fact_table/\")"
   ]
  },
  {
   "cell_type": "code",
   "execution_count": null,
   "id": "e746f249",
   "metadata": {},
   "outputs": [],
   "source": []
  }
 ],
 "metadata": {
  "kernelspec": {
   "display_name": "PySpark",
   "language": "",
   "name": "pysparkkernel"
  },
  "language_info": {
   "codemirror_mode": {
    "name": "python",
    "version": 2
   },
   "mimetype": "text/x-python",
   "name": "pyspark",
   "pygments_lexer": "python2"
  }
 },
 "nbformat": 4,
 "nbformat_minor": 5
}
